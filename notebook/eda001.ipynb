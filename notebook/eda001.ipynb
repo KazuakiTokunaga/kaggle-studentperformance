{
 "cells": [
  {
   "cell_type": "code",
   "execution_count": 1,
   "id": "b7bba5b1",
   "metadata": {},
   "outputs": [],
   "source": [
    "import numpy as np\n",
    "import pandas as pd\n",
    "import seaborn as sns\n",
    "import matplotlib.pyplot as plt"
   ]
  },
  {
   "cell_type": "code",
   "execution_count": 2,
   "id": "d73ec779",
   "metadata": {},
   "outputs": [],
   "source": [
    "pd.set_option('display.max_rows', 100)\n",
    "pd.set_option('display.max_columns', 100)"
   ]
  },
  {
   "cell_type": "code",
   "execution_count": 3,
   "id": "9428b985",
   "metadata": {},
   "outputs": [],
   "source": [
    "# Import my modules.\n",
    "import sys, os\n",
    "from pathlib import Path\n",
    "current_dir = os.path.join(Path().resolve())\n",
    "sys.path.append(str(current_dir) + '/../')\n",
    "sys.path.append(str(current_dir) + '/../input/')\n",
    "\n",
    "from codes import utils, loader\n",
    "\n",
    "import importlib\n",
    "for m in [utils, loader]:\n",
    "    importlib.reload(m)"
   ]
  },
  {
   "cell_type": "code",
   "execution_count": 8,
   "id": "697b522f",
   "metadata": {},
   "outputs": [],
   "source": [
    "PATH = '../input'\n",
    "\n",
    "train_df = pd.read_csv(f'{PATH}/train.csv')\n",
    "test_df = pd.read_csv(f'{PATH}/test.csv')\n",
    "labels_df = pd.read_csv(f'{PATH}/train_labels.csv')\n",
    "submission_df = pd.read_csv(f'{PATH}/sample_submission.csv')"
   ]
  },
  {
   "cell_type": "code",
   "execution_count": 10,
   "id": "af198868",
   "metadata": {},
   "outputs": [
    {
     "data": {
      "text/html": [
       "<div>\n",
       "<style scoped>\n",
       "    .dataframe tbody tr th:only-of-type {\n",
       "        vertical-align: middle;\n",
       "    }\n",
       "\n",
       "    .dataframe tbody tr th {\n",
       "        vertical-align: top;\n",
       "    }\n",
       "\n",
       "    .dataframe thead th {\n",
       "        text-align: right;\n",
       "    }\n",
       "</style>\n",
       "<table border=\"1\" class=\"dataframe\">\n",
       "  <thead>\n",
       "    <tr style=\"text-align: right;\">\n",
       "      <th></th>\n",
       "      <th>session_id</th>\n",
       "      <th>correct</th>\n",
       "    </tr>\n",
       "  </thead>\n",
       "  <tbody>\n",
       "    <tr>\n",
       "      <th>0</th>\n",
       "      <td>20090312431273200_q1</td>\n",
       "      <td>1</td>\n",
       "    </tr>\n",
       "    <tr>\n",
       "      <th>1</th>\n",
       "      <td>20090312433251036_q1</td>\n",
       "      <td>0</td>\n",
       "    </tr>\n",
       "    <tr>\n",
       "      <th>2</th>\n",
       "      <td>20090314121766812_q1</td>\n",
       "      <td>1</td>\n",
       "    </tr>\n",
       "    <tr>\n",
       "      <th>3</th>\n",
       "      <td>20090314363702160_q1</td>\n",
       "      <td>1</td>\n",
       "    </tr>\n",
       "    <tr>\n",
       "      <th>4</th>\n",
       "      <td>20090314441803444_q1</td>\n",
       "      <td>1</td>\n",
       "    </tr>\n",
       "  </tbody>\n",
       "</table>\n",
       "</div>"
      ],
      "text/plain": [
       "             session_id  correct\n",
       "0  20090312431273200_q1        1\n",
       "1  20090312433251036_q1        0\n",
       "2  20090314121766812_q1        1\n",
       "3  20090314363702160_q1        1\n",
       "4  20090314441803444_q1        1"
      ]
     },
     "execution_count": 10,
     "metadata": {},
     "output_type": "execute_result"
    }
   ],
   "source": [
    "labels_df.head()"
   ]
  },
  {
   "cell_type": "code",
   "execution_count": 19,
   "id": "b6fbcd85",
   "metadata": {},
   "outputs": [],
   "source": [
    "train_events_per_session = train_df['session_id'].value_counts()\n",
    "test_events_per_session = test_df['session_id'].value_counts()"
   ]
  },
  {
   "cell_type": "code",
   "execution_count": 22,
   "id": "37a05bd4",
   "metadata": {},
   "outputs": [],
   "source": [
    "session_ids = np.array(train_df['session_id'].unique())\n",
    "peak_session_ids = train_df[train_df['elapsed_time'] > 4e7]['session_id'].unique()"
   ]
  },
  {
   "cell_type": "code",
   "execution_count": 25,
   "id": "8b0965db",
   "metadata": {},
   "outputs": [
    {
     "data": {
      "text/plain": [
       "Index(['session_id', 'index', 'elapsed_time', 'event_name', 'name', 'level',\n",
       "       'page', 'room_coor_x', 'room_coor_y', 'screen_coor_x', 'screen_coor_y',\n",
       "       'hover_duration', 'text', 'fqid', 'room_fqid', 'text_fqid',\n",
       "       'fullscreen', 'hq', 'music', 'level_group'],\n",
       "      dtype='object')"
      ]
     },
     "execution_count": 25,
     "metadata": {},
     "output_type": "execute_result"
    }
   ],
   "source": [
    "train_df.columns"
   ]
  },
  {
   "cell_type": "code",
   "execution_count": 27,
   "id": "d4935320",
   "metadata": {},
   "outputs": [
    {
     "data": {
      "text/plain": [
       "array(['basic', 'undefined', 'close', 'open', 'prev', 'next'],\n",
       "      dtype=object)"
      ]
     },
     "execution_count": 27,
     "metadata": {},
     "output_type": "execute_result"
    }
   ],
   "source": [
    "train_df['name'].unique()"
   ]
  },
  {
   "cell_type": "code",
   "execution_count": 28,
   "id": "2c61c1a0",
   "metadata": {},
   "outputs": [
    {
     "data": {
      "text/html": [
       "<div>\n",
       "<style scoped>\n",
       "    .dataframe tbody tr th:only-of-type {\n",
       "        vertical-align: middle;\n",
       "    }\n",
       "\n",
       "    .dataframe tbody tr th {\n",
       "        vertical-align: top;\n",
       "    }\n",
       "\n",
       "    .dataframe thead th {\n",
       "        text-align: right;\n",
       "    }\n",
       "</style>\n",
       "<table border=\"1\" class=\"dataframe\">\n",
       "  <thead>\n",
       "    <tr style=\"text-align: right;\">\n",
       "      <th></th>\n",
       "      <th>index_count</th>\n",
       "    </tr>\n",
       "    <tr>\n",
       "      <th>level</th>\n",
       "      <th></th>\n",
       "    </tr>\n",
       "  </thead>\n",
       "  <tbody>\n",
       "    <tr>\n",
       "      <th>0</th>\n",
       "      <td>29.312760</td>\n",
       "    </tr>\n",
       "    <tr>\n",
       "      <th>1</th>\n",
       "      <td>30.931573</td>\n",
       "    </tr>\n",
       "    <tr>\n",
       "      <th>2</th>\n",
       "      <td>42.071738</td>\n",
       "    </tr>\n",
       "    <tr>\n",
       "      <th>3</th>\n",
       "      <td>48.833857</td>\n",
       "    </tr>\n",
       "    <tr>\n",
       "      <th>4</th>\n",
       "      <td>18.192716</td>\n",
       "    </tr>\n",
       "    <tr>\n",
       "      <th>5</th>\n",
       "      <td>28.326004</td>\n",
       "    </tr>\n",
       "    <tr>\n",
       "      <th>6</th>\n",
       "      <td>90.434757</td>\n",
       "    </tr>\n",
       "    <tr>\n",
       "      <th>7</th>\n",
       "      <td>54.183987</td>\n",
       "    </tr>\n",
       "    <tr>\n",
       "      <th>8</th>\n",
       "      <td>37.806690</td>\n",
       "    </tr>\n",
       "    <tr>\n",
       "      <th>9</th>\n",
       "      <td>48.279226</td>\n",
       "    </tr>\n",
       "    <tr>\n",
       "      <th>10</th>\n",
       "      <td>19.201460</td>\n",
       "    </tr>\n",
       "    <tr>\n",
       "      <th>11</th>\n",
       "      <td>82.526955</td>\n",
       "    </tr>\n",
       "    <tr>\n",
       "      <th>12</th>\n",
       "      <td>15.604041</td>\n",
       "    </tr>\n",
       "    <tr>\n",
       "      <th>13</th>\n",
       "      <td>34.919688</td>\n",
       "    </tr>\n",
       "    <tr>\n",
       "      <th>14</th>\n",
       "      <td>23.101112</td>\n",
       "    </tr>\n",
       "    <tr>\n",
       "      <th>15</th>\n",
       "      <td>53.198852</td>\n",
       "    </tr>\n",
       "    <tr>\n",
       "      <th>16</th>\n",
       "      <td>55.053230</td>\n",
       "    </tr>\n",
       "    <tr>\n",
       "      <th>17</th>\n",
       "      <td>51.193480</td>\n",
       "    </tr>\n",
       "    <tr>\n",
       "      <th>18</th>\n",
       "      <td>149.245182</td>\n",
       "    </tr>\n",
       "    <tr>\n",
       "      <th>19</th>\n",
       "      <td>51.556669</td>\n",
       "    </tr>\n",
       "    <tr>\n",
       "      <th>20</th>\n",
       "      <td>48.066333</td>\n",
       "    </tr>\n",
       "    <tr>\n",
       "      <th>21</th>\n",
       "      <td>89.716651</td>\n",
       "    </tr>\n",
       "    <tr>\n",
       "      <th>22</th>\n",
       "      <td>18.010442</td>\n",
       "    </tr>\n",
       "  </tbody>\n",
       "</table>\n",
       "</div>"
      ],
      "text/plain": [
       "       index_count\n",
       "level             \n",
       "0        29.312760\n",
       "1        30.931573\n",
       "2        42.071738\n",
       "3        48.833857\n",
       "4        18.192716\n",
       "5        28.326004\n",
       "6        90.434757\n",
       "7        54.183987\n",
       "8        37.806690\n",
       "9        48.279226\n",
       "10       19.201460\n",
       "11       82.526955\n",
       "12       15.604041\n",
       "13       34.919688\n",
       "14       23.101112\n",
       "15       53.198852\n",
       "16       55.053230\n",
       "17       51.193480\n",
       "18      149.245182\n",
       "19       51.556669\n",
       "20       48.066333\n",
       "21       89.716651\n",
       "22       18.010442"
      ]
     },
     "execution_count": 28,
     "metadata": {},
     "output_type": "execute_result"
    }
   ],
   "source": [
    "grouped_df = train_df.groupby(['session_id', 'level'])\\\n",
    "    ['index'].count().reset_index()\n",
    "grouped_df.columns = ['session_id', 'level', 'index_count']\n",
    "mean_counts = grouped_df.groupby('level').mean().drop('session_id', axis=1)\n",
    "mean_counts"
   ]
  },
  {
   "cell_type": "code",
   "execution_count": 29,
   "id": "979ca1b8",
   "metadata": {},
   "outputs": [],
   "source": [
    "train_page_number_counts = train_df['page'].value_counts().sort_index()\n",
    "test_page_number_counts = test_df['page'].value_counts().sort_index()"
   ]
  },
  {
   "cell_type": "code",
   "execution_count": 30,
   "id": "177b69e8",
   "metadata": {},
   "outputs": [
    {
     "data": {
      "text/plain": [
       "0.0    37232\n",
       "1.0    50714\n",
       "2.0    24672\n",
       "3.0    31350\n",
       "4.0    44207\n",
       "5.0    51154\n",
       "6.0    45417\n",
       "Name: page, dtype: int64"
      ]
     },
     "execution_count": 30,
     "metadata": {},
     "output_type": "execute_result"
    }
   ],
   "source": [
    "train_page_number_counts"
   ]
  },
  {
   "cell_type": "code",
   "execution_count": 31,
   "id": "38fc8c12",
   "metadata": {},
   "outputs": [],
   "source": [
    "# Count values\n",
    "train_fqids = train_df['fqid'].value_counts()\n",
    "train_room_fqids = train_df['room_fqid'].value_counts()\n",
    "train_text_fqids = train_df['text_fqid'].value_counts()\n",
    "test_fqids = test_df['fqid'].value_counts()\n",
    "test_room_fqids = test_df['room_fqid'].value_counts()\n",
    "test_text_fqids = test_df['text_fqid'].value_counts()\n",
    "train_fqid_bundle = [train_fqids, train_room_fqids, train_text_fqids]\n",
    "test_fqid_bundle = [test_fqids, test_room_fqids, test_text_fqids]\n",
    "fqid_labels = [\"fqid\", \"room_fqid\", \"text_fqid\"]\n"
   ]
  },
  {
   "cell_type": "code",
   "execution_count": 33,
   "id": "3ece4d32",
   "metadata": {},
   "outputs": [
    {
     "data": {
      "text/plain": [
       "worker                            939555\n",
       "archivist                         563259\n",
       "gramps                            561000\n",
       "wells                             394234\n",
       "toentry                           392221\n",
       "confrontation                     348723\n",
       "crane_ranger                      251943\n",
       "groupconvo                        227881\n",
       "flag_girl                         224758\n",
       "tomap                             202176\n",
       "tostacks                          169123\n",
       "tobasement                        162947\n",
       "archivist_glasses                 158513\n",
       "boss                              151822\n",
       "journals                          150014\n",
       "seescratches                      146223\n",
       "groupconvo_flag                   136133\n",
       "cs                                129873\n",
       "teddy                             119041\n",
       "expert                            118147\n",
       "businesscards                     111142\n",
       "ch3start                          107078\n",
       "tunic.historicalsociety           106827\n",
       "tofrontdesk                        99897\n",
       "savedteddy                         93057\n",
       "plaque                             91590\n",
       "glasses                            91466\n",
       "tunic.drycleaner                   90982\n",
       "reader_flag                        83196\n",
       "tunic.library                      81727\n",
       "tracks                             76453\n",
       "tunic.capitol_2                    74897\n",
       "trigger_scarf                      72360\n",
       "reader                             67638\n",
       "directory                          65788\n",
       "tunic.capitol_1                    57986\n",
       "journals.pic_0.next                55963\n",
       "unlockdoor                         55829\n",
       "tunic                              55599\n",
       "what_happened                      54651\n",
       "tunic.kohlcenter                   52435\n",
       "tunic.humanecology                 51033\n",
       "colorbook                          49961\n",
       "logbook                            48174\n",
       "businesscards.card_0.next          45851\n",
       "journals.hub.topics                45806\n",
       "logbook.page.bingo                 43801\n",
       "journals.pic_1.next                43698\n",
       "journals_flag                      41540\n",
       "reader.paper0.next                 38482\n",
       "tracks.hub.deer                    37567\n",
       "reader_flag.paper0.next            36995\n",
       "trigger_coffee                     35978\n",
       "wellsbadge                         34752\n",
       "journals.pic_2.next                33771\n",
       "tomicrofiche                       33504\n",
       "journals_flag.pic_0.bingo          32738\n",
       "plaque.face.date                   32644\n",
       "notebook                           32490\n",
       "tocloset_dirty                     32059\n",
       "businesscards.card_bingo.bingo     32001\n",
       "businesscards.card_1.next          31292\n",
       "tunic.wildlife                     31245\n",
       "tunic.hub.slip                     30680\n",
       "tocage                             30595\n",
       "journals.pic_2.bingo               30065\n",
       "tocollectionflag                   30014\n",
       "tocollection                       29741\n",
       "chap4_finale_c                     29471\n",
       "chap2_finale_c                     29452\n",
       "lockeddoor                         29244\n",
       "journals_flag.hub.topics           28950\n",
       "tunic.capitol_0                    28657\n",
       "reader_flag.paper2.bingo           28138\n",
       "photo                              27748\n",
       "tunic.flaghouse                    27195\n",
       "reader.paper1.next                 26914\n",
       "directory.closeup.archivist        26668\n",
       "intro                              26195\n",
       "businesscards.card_bingo.next      25997\n",
       "reader.paper2.bingo                25995\n",
       "retirement_letter                  25376\n",
       "remove_cup                         24643\n",
       "journals_flag.pic_0.next           24442\n",
       "magnify                            24437\n",
       "coffee                             24294\n",
       "key                                23980\n",
       "togrampa                           23715\n",
       "reader_flag.paper1.next            22740\n",
       "janitor                            21672\n",
       "tohallway                          21413\n",
       "chap1_finale                       21397\n",
       "report                             19253\n",
       "outtolunch                         14988\n",
       "journals_flag.hub.topics_old       13962\n",
       "journals_flag.pic_1.next           12446\n",
       "reader.paper2.next                 12368\n",
       "chap1_finale_c                     12097\n",
       "reader_flag.paper2.next            11280\n",
       "door_block_talk                     9854\n",
       "Name: fqid, dtype: int64"
      ]
     },
     "execution_count": 33,
     "metadata": {},
     "output_type": "execute_result"
    }
   ],
   "source": [
    "train_fqids.head(100)"
   ]
  },
  {
   "cell_type": "code",
   "execution_count": null,
   "id": "0423cbeb",
   "metadata": {},
   "outputs": [],
   "source": []
  }
 ],
 "metadata": {
  "kernelspec": {
   "display_name": "Python 3 (ipykernel)",
   "language": "python",
   "name": "python3"
  },
  "language_info": {
   "codemirror_mode": {
    "name": "ipython",
    "version": 3
   },
   "file_extension": ".py",
   "mimetype": "text/x-python",
   "name": "python",
   "nbconvert_exporter": "python",
   "pygments_lexer": "ipython3",
   "version": "3.7.12"
  }
 },
 "nbformat": 4,
 "nbformat_minor": 5
}
